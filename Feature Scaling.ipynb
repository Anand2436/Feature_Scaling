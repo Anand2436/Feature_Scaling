{
 "cells": [
  {
   "cell_type": "code",
   "execution_count": 1,
   "metadata": {
    "collapsed": true
   },
   "outputs": [],
   "source": [
    "import numpy as np\n",
    "from sklearn import preprocessing"
   ]
  },
  {
   "cell_type": "code",
   "execution_count": 7,
   "metadata": {},
   "outputs": [
    {
     "name": "stdout",
     "output_type": "stream",
     "text": [
      "[[-0.84852814 -0.34641016]\n",
      " [ 1.69705627  0.11547005]\n",
      " [-0.56568542 -1.27017059]\n",
      " [-0.28284271  1.5011107 ]]\n",
      "0.0\n",
      "0.0\n",
      "1.0\n"
     ]
    }
   ],
   "source": [
    "# method 1 : Cant apply scale to incoming test datasets\n",
    "# cant extract parameters\n",
    "x = [[0,3],[9,4],[1,1],[2,7]]\n",
    "\n",
    "x_scaled = preprocessing.scale(x)\n",
    "\n",
    "\n",
    "print(x_scaled)\n",
    "print(x_scaled.sum())\n",
    "print(x_scaled.mean())\n",
    "print(x_scaled.std())"
   ]
  },
  {
   "cell_type": "code",
   "execution_count": 9,
   "metadata": {},
   "outputs": [
    {
     "data": {
      "text/plain": [
       "StandardScaler(copy=True, with_mean=True, with_std=True)"
      ]
     },
     "execution_count": 9,
     "metadata": {},
     "output_type": "execute_result"
    }
   ],
   "source": [
    "# method 2 : We will be able to apply scale to incoming datasets\n",
    "# Types of scalers present \n",
    "# a) Standard : mean = 0, variance =1 (by default)\n",
    "# b) minMax Scaler : 0,1 (by default)\n",
    "# c) absoluteMax Scaler\n",
    "# Note : Default values can be changed (passed as parameters)\n",
    "\n",
    "scaler = preprocessing.StandardScaler()\n",
    "scaler.fit(x)"
   ]
  },
  {
   "cell_type": "code",
   "execution_count": 11,
   "metadata": {},
   "outputs": [
    {
     "data": {
      "text/plain": [
       "array([[-0.84852814, -0.34641016],\n",
       "       [ 1.69705627,  0.11547005],\n",
       "       [-0.56568542, -1.27017059],\n",
       "       [-0.28284271,  1.5011107 ]])"
      ]
     },
     "execution_count": 11,
     "metadata": {},
     "output_type": "execute_result"
    }
   ],
   "source": [
    "scaler.transform(x)"
   ]
  },
  {
   "cell_type": "code",
   "execution_count": 12,
   "metadata": {},
   "outputs": [
    {
     "data": {
      "text/plain": [
       "array([[-0.56568542, -0.80829038],\n",
       "       [ 0.        ,  0.11547005]])"
      ]
     },
     "execution_count": 12,
     "metadata": {},
     "output_type": "execute_result"
    }
   ],
   "source": [
    "scaler.transform([[1,2],[3,4]]) # Scales according to parameters calculated during fit command"
   ]
  }
 ],
 "metadata": {
  "kernelspec": {
   "display_name": "Python 3",
   "language": "python",
   "name": "python3"
  },
  "language_info": {
   "codemirror_mode": {
    "name": "ipython",
    "version": 3
   },
   "file_extension": ".py",
   "mimetype": "text/x-python",
   "name": "python",
   "nbconvert_exporter": "python",
   "pygments_lexer": "ipython3",
   "version": "3.6.3"
  }
 },
 "nbformat": 4,
 "nbformat_minor": 2
}
